{
 "cells": [
  {
   "cell_type": "markdown",
   "metadata": {},
   "source": [
    "## kriging the bottom of the aquifer - we can remove this if we want"
   ]
  },
  {
   "cell_type": "code",
   "execution_count": 1,
   "metadata": {},
   "outputs": [],
   "source": [
    "import pyemu\n",
    "import os\n",
    "import numpy as np\n",
    "import pandas as pd\n",
    "import flopy as fp\n",
    "import freyberg as fb\n",
    "WD = \"kriging\"\n",
    "import matplotlib.pyplot as plt\n",
    "%matplotlib inline"
   ]
  },
  {
   "cell_type": "code",
   "execution_count": 2,
   "metadata": {},
   "outputs": [],
   "source": [
    "\n",
    "# calculate and plot empirical variogram\n",
    "def plot_empirical_variogram(x,y,data, nbins=25):\n",
    "\n",
    "    X,Y = np.meshgrid(x,y)\n",
    "    h = np.sqrt((X-X.T)**2 + (Y-Y.T)**2).ravel()\n",
    "    d,d1 = np.meshgrid(data, data)\n",
    "    gam = (1/2.0*(d-d.T)**2).ravel()\n",
    "    if nbins>0:\n",
    "        \n",
    "        bindiffs = np.ones(nbins)*np.max(h)/2/nbins\n",
    "        bins = np.hstack(([0],np.cumsum(bindiffs)))\n",
    "        bindiffs[0] = bins[1]/2\n",
    "        bincenters = np.cumsum(bindiffs)\n",
    "    \n",
    "        empirical_vario = list()\n",
    "        for i in range(len(bincenters)):\n",
    "            cinds = np.where((h>bins[i]) & (h<=bins[i+1]))\n",
    "            empirical_vario.append(np.mean(gam[cinds]))\n",
    "        h=bincenters\n",
    "        gam = np.array(empirical_vario)\n",
    "\n",
    "    fig = plt.figure(figsize=(6,6))\n",
    "    ax = fig.add_subplot(111)\n",
    "    plt.scatter(h,gam)\n",
    "    plt.xlabel('Separation Distance')\n",
    "    plt.ylabel('Empirical Variogram')\n",
    "    plt.grid()\n",
    "    return h, gam, ax"
   ]
  },
  {
   "cell_type": "code",
   "execution_count": 3,
   "metadata": {},
   "outputs": [],
   "source": [
    "fb.prep_notebook(WD)"
   ]
  },
  {
   "cell_type": "code",
   "execution_count": 4,
   "metadata": {},
   "outputs": [
    {
     "name": "stdout",
     "output_type": "stream",
     "text": [
      "Note: external_path . already exists\n",
      "[[  1.70080000e+01   1.85070000e+01   1.86720000e+01   1.59300000e+01\n",
      "    1.39610000e+01   1.44620000e+01   8.01900000e+00   1.06000000e+01\n",
      "    8.88470000e+00   7.22740000e+00   6.25110000e+00   6.00610000e+00\n",
      "    7.11430000e+00   6.90390000e+00   6.24430000e+00   6.94500000e+00\n",
      "    6.98550000e+00   5.03100000e+00   4.00610000e+00   6.65840000e+00]\n",
      " [  1.91260000e+01   1.73450000e+01   1.82340000e+01   1.36600000e+01\n",
      "    1.32620000e+01   1.39220000e+01   1.06760000e+01   9.91670000e+00\n",
      "    1.10250000e+01   6.40940000e+00   4.87820000e+00   5.08430000e+00\n",
      "    6.53210000e+00   5.17730000e+00   5.71810000e+00   4.33290000e+00\n",
      "    5.88670000e+00   6.43560000e+00   5.29410000e+00   6.05030000e+00]\n",
      " [  1.74800000e+01   1.88600000e+01   1.82960000e+01   1.29860000e+01\n",
      "    1.37380000e+01   1.44010000e+01   9.20200000e+00   1.12080000e+01\n",
      "    8.34990000e+00   8.57420000e+00   5.98100000e+00   6.51990000e+00\n",
      "    6.24530000e+00   5.00660000e+00   7.17200000e+00   7.16350000e+00\n",
      "    4.59080000e+00   5.13250000e+00   5.05240000e+00   6.80110000e+00]\n",
      " [  1.79700000e+01   1.88970000e+01   1.93130000e+01   1.48620000e+01\n",
      "    1.33210000e+01   1.57680000e+01   1.14660000e+01   8.75680000e+00\n",
      "    1.23280000e+01   7.05500000e+00   3.05900000e+00   2.82430000e+00\n",
      "    2.24510000e+00   2.98580000e+00   3.19090000e+00   2.23190000e+00\n",
      "    7.78500000e+00   4.95550000e+00   6.33890000e+00   6.47550000e+00]\n",
      " [  1.89110000e+01   1.80450000e+01   1.69950000e+01   1.48810000e+01\n",
      "    1.52120000e+01   1.37540000e+01   8.69110000e+00   1.46350000e+01\n",
      "    1.00450000e+01   4.78930000e+00   3.16880000e+00   2.97620000e+00\n",
      "    2.58130000e+00   2.96830000e+00   2.35070000e+00   2.70280000e+00\n",
      "    3.50560000e+00   6.33350000e+00   4.77770000e+00   5.40660000e+00]\n",
      " [  1.59990000e+01   1.81780000e+01   1.66350000e+01   1.37390000e+01\n",
      "    1.36020000e+01   1.48050000e+01   1.51840000e+01   1.28150000e+01\n",
      "    1.42630000e+01   1.06730000e+01   3.40140000e+00   3.34280000e+00\n",
      "    2.92570000e+00   3.02380000e+00   3.23610000e+00   2.69490000e+00\n",
      "    2.62320000e+00   3.00850000e+00   6.05610000e+00   6.51840000e+00]\n",
      " [  1.59270000e+01   1.32420000e+01   1.52060000e+01   1.12130000e+01\n",
      "    1.44560000e+01   1.16310000e+01   1.51340000e+01   1.28350000e+01\n",
      "    1.40040000e+01   8.93640000e+00   3.46790000e+00   3.38140000e+00\n",
      "    2.92360000e+00   3.49470000e+00   3.57150000e+00   3.31310000e+00\n",
      "    3.93690000e+00   2.71500000e+00   4.51480000e+00   5.87740000e+00]\n",
      " [  1.96000000e+01   1.45430000e+01   1.40330000e+01   1.31860000e+01\n",
      "    1.53440000e+01   1.48300000e+01   1.45940000e+01   1.55070000e+01\n",
      "    1.48880000e+01   8.81950000e+00   3.46330000e+00   3.31050000e+00\n",
      "    4.04560000e+00   2.81530000e+00   2.85290000e+00   3.19510000e+00\n",
      "    2.61500000e+00   4.26890000e+00   3.42250000e+00   6.74510000e+00]\n",
      " [  1.84760000e+01   1.34330000e+01   1.23470000e+01   1.57410000e+01\n",
      "    0.00000000e+00   0.00000000e+00   0.00000000e+00   1.28750000e+01\n",
      "    8.82730000e+00   5.10870000e+00   4.13680000e+00   3.26770000e+00\n",
      "    2.88390000e+00   3.32580000e+00   3.48570000e+00   3.21120000e+00\n",
      "    3.08060000e+00   2.50450000e+00   3.51680000e+00   5.34890000e+00]\n",
      " [  1.96650000e+01   1.31170000e+01   1.55280000e+01   1.41310000e+01\n",
      "    0.00000000e+00   0.00000000e+00   0.00000000e+00   0.00000000e+00\n",
      "    1.03920000e+01   6.36520000e+00   3.06700000e+00   2.66100000e+00\n",
      "    3.09420000e+00   2.42510000e+00   3.50190000e+00   2.43680000e+00\n",
      "    3.34560000e+00   2.54270000e+00   3.85150000e+00   2.82730000e+00]\n",
      " [  1.75130000e+01   1.47590000e+01   1.30830000e+01   1.55170000e+01\n",
      "    0.00000000e+00   0.00000000e+00   0.00000000e+00   0.00000000e+00\n",
      "    1.05510000e+01   5.44860000e+00   3.13470000e+00   3.36980000e+00\n",
      "    3.06130000e+00   3.05570000e+00   3.06130000e+00   2.73510000e+00\n",
      "    3.02260000e+00   2.86560000e+00   2.89630000e+00   3.61340000e+00]\n",
      " [  1.22810000e+01   1.34760000e+01   1.46040000e+01   1.44960000e+01\n",
      "    0.00000000e+00   0.00000000e+00   0.00000000e+00   0.00000000e+00\n",
      "    9.71260000e+00   5.26100000e+00   2.54060000e+00   4.19270000e+00\n",
      "    3.07220000e+00   3.14070000e+00   2.62580000e+00   3.24260000e+00\n",
      "    3.53340000e+00   2.85490000e+00   2.58260000e+00   3.29250000e+00]\n",
      " [  1.41420000e+01   1.19620000e+01   1.38960000e+01   1.29130000e+01\n",
      "    0.00000000e+00   0.00000000e+00   0.00000000e+00   0.00000000e+00\n",
      "    8.60310000e+00   5.65220000e+00   1.75320000e+00   1.65210000e+00\n",
      "    1.49320000e+00   1.73380000e+00   1.64620000e+00   1.85130000e+00\n",
      "    3.28960000e+00   2.66170000e+00   3.78380000e+00   3.43770000e+00]\n",
      " [  1.49600000e+01   1.36690000e+01   1.16990000e+01   1.04230000e+01\n",
      "    0.00000000e+00   0.00000000e+00   0.00000000e+00   0.00000000e+00\n",
      "    9.40560000e+00   5.63360000e+00   1.62620000e+00   1.68960000e+00\n",
      "    1.28460000e+00   1.54380000e+00   1.84020000e+00   1.59560000e+00\n",
      "    3.71040000e+00   3.19930000e+00   3.24480000e+00   2.74620000e+00]\n",
      " [  1.28520000e+01   1.36610000e+01   1.05730000e+01   9.03390000e+00\n",
      "    0.00000000e+00   0.00000000e+00   0.00000000e+00   0.00000000e+00\n",
      "    9.26560000e+00   6.60030000e+00   1.07480000e+00   1.72950000e+00\n",
      "    1.45440000e+00   1.51980000e+00   1.12140000e+00   1.67560000e+00\n",
      "    4.39090000e+00   2.45900000e+00   2.00830000e+00   3.42060000e+00]\n",
      " [  1.44030000e+01   1.52130000e+01   1.04090000e+01   9.03550000e+00\n",
      "    0.00000000e+00   0.00000000e+00   0.00000000e+00   0.00000000e+00\n",
      "    1.01110000e+01   3.69920000e+00   1.42320000e+00   1.74990000e+00\n",
      "    1.65810000e+00   1.59200000e+00   1.61040000e+00   1.27250000e+00\n",
      "    4.19030000e+00   2.91220000e+00   3.18910000e+00   3.69980000e+00]\n",
      " [  1.31910000e+01   9.30460000e+00   9.22410000e+00   1.01770000e+01\n",
      "    0.00000000e+00   0.00000000e+00   0.00000000e+00   0.00000000e+00\n",
      "    8.02620000e+00   6.21270000e+00   1.37630000e+00   1.29430000e+00\n",
      "    1.45160000e+00   1.30790000e+00   1.10920000e+00   1.31490000e+00\n",
      "    2.94370000e+00   3.65160000e+00   3.21690000e+00   3.24110000e+00]\n",
      " [  1.37570000e+01   9.66970000e+00   6.91560000e+00   1.00920000e+01\n",
      "    0.00000000e+00   0.00000000e+00   0.00000000e+00   0.00000000e+00\n",
      "    1.08030000e+01   6.44640000e+00   1.32730000e+00   1.57960000e+00\n",
      "    1.12190000e+00   1.27690000e+00   1.58140000e+00   1.46520000e+00\n",
      "    1.63700000e+00   2.88290000e+00   2.40300000e+00   2.30250000e+00]\n",
      " [  1.36310000e+01   1.10510000e+01   6.06320000e+00   1.10890000e+01\n",
      "    0.00000000e+00   0.00000000e+00   0.00000000e+00   0.00000000e+00\n",
      "    9.67770000e+00   6.21880000e+00   1.70760000e+00   1.12440000e+00\n",
      "    1.27500000e+00   1.55450000e+00   1.44650000e+00   1.62840000e+00\n",
      "    1.50160000e+00   2.53990000e+00   1.77120000e+00   4.01150000e+00]\n",
      " [  1.42690000e+01   1.01430000e+01   3.99430000e+00   1.06450000e+01\n",
      "    0.00000000e+00   0.00000000e+00   0.00000000e+00   0.00000000e+00\n",
      "    1.03600000e+01   5.34130000e+00   1.11370000e+00   1.34050000e+00\n",
      "    1.42090000e+00   1.56490000e+00   2.20000000e+00   1.44980000e+00\n",
      "    1.52410000e+00   2.94360000e+00   3.10030000e+00   2.87900000e+00]\n",
      " [  1.22440000e+01   9.76070000e+00   7.87840000e+00   9.50280000e+00\n",
      "    0.00000000e+00   0.00000000e+00   0.00000000e+00   0.00000000e+00\n",
      "    8.71730000e+00   3.95390000e+00   1.83670000e+00   1.33850000e+00\n",
      "    9.36650000e-01   1.39600000e+00   1.73900000e+00   1.59070000e+00\n",
      "    1.52510000e+00   2.91590000e+00   3.82230000e+00   2.62670000e+00]\n",
      " [  1.47180000e+01   1.06950000e+01   4.73030000e+00   8.28070000e+00\n",
      "    0.00000000e+00   0.00000000e+00   1.01120000e+01   1.21560000e+01\n",
      "    5.96850000e+00   6.00990000e+00   1.15770000e+00   1.64470000e+00\n",
      "    1.82290000e+00   1.32920000e+00   1.33650000e+00   1.80930000e+00\n",
      "    1.30930000e+00   1.64700000e+00   2.46180000e+00   3.15630000e+00]\n",
      " [  1.20240000e+01   9.32890000e+00   5.47250000e+00   8.63540000e+00\n",
      "    8.43790000e+00   0.00000000e+00   1.01350000e+01   1.19270000e+01\n",
      "    5.99170000e+00   6.08540000e+00   1.28310000e+00   1.88490000e+00\n",
      "    1.16410000e+00   2.00840000e+00   1.36880000e+00   1.38800000e+00\n",
      "    1.25120000e+00   1.48950000e+00   1.69910000e+00   2.97070000e+00]\n",
      " [  1.38030000e+01   8.95350000e+00   7.10000000e+00   9.38520000e+00\n",
      "    1.10120000e+01   1.14100000e+01   1.04510000e+01   4.76650000e+00\n",
      "    7.02230000e+00   5.08160000e+00   1.48990000e+00   1.32940000e+00\n",
      "    1.60260000e+00   1.17290000e+00   1.41370000e+00   1.77790000e+00\n",
      "    1.06610000e+00   1.48850000e+00   2.93730000e+00   3.17600000e+00]\n",
      " [  1.42650000e+01   9.08470000e+00   5.28560000e+00   1.28130000e+01\n",
      "    1.11070000e+01   5.24160000e+00   5.79910000e+00   5.60340000e+00\n",
      "    6.76680000e+00   1.78130000e+00   6.45510000e-01   3.46320000e-01\n",
      "    3.34570000e-01   6.10370000e-01   2.98660000e-01   7.59900000e-01\n",
      "    2.24840000e+00   1.41890000e+00   2.86230000e+00   2.66290000e+00]\n",
      " [  1.48720000e+01   1.00490000e+01   1.05790000e+01   7.27660000e+00\n",
      "    6.54250000e+00   4.17030000e+00   6.16180000e+00   4.03610000e+00\n",
      "    3.45980000e+00   2.70510000e+00   4.49350000e-01   6.37250000e-01\n",
      "    5.44170000e-01   5.61910000e-01   4.72600000e-01   2.45970000e-01\n",
      "    1.14450000e+00   1.58410000e+00   3.82550000e+00   3.58070000e+00]\n",
      " [  1.34100000e+01   1.07420000e+01   9.43480000e+00   1.00490000e+01\n",
      "    6.55460000e+00   5.98330000e+00   4.51270000e+00   4.50020000e+00\n",
      "    2.70580000e+00   3.41340000e+00   3.04950000e-01   5.41590000e-01\n",
      "    4.24270000e-01   4.67750000e-01   3.84760000e-01   4.79400000e-01\n",
      "    1.72160000e+00   1.64410000e+00   1.38250000e+00   3.48710000e+00]\n",
      " [  1.37350000e+01   1.21270000e+01   9.42410000e+00   1.03060000e+01\n",
      "    7.19440000e+00   6.80390000e+00   5.40210000e+00   3.43080000e+00\n",
      "    2.70980000e+00   1.98100000e+00   8.69710000e-01   3.39060000e-01\n",
      "    4.95200000e-01   1.86210000e-01   2.10290000e-01   3.79930000e-01\n",
      "    1.39460000e+00   1.55220000e+00   1.52730000e+00   2.70370000e+00]\n",
      " [  1.50170000e+01   1.08970000e+01   1.04990000e+01   1.08340000e+01\n",
      "    6.64450000e+00   6.45400000e+00   5.42570000e+00   2.48750000e+00\n",
      "    2.65920000e+00   1.84350000e+00   1.82910000e-01   4.23570000e-02\n",
      "    7.85160000e-01   4.40380000e-01   6.89560000e-01   8.46300000e-01\n",
      "    1.46110000e+00   1.30110000e+00   1.62470000e+00   3.56100000e+00]\n",
      " [  1.41110000e+01   9.87870000e+00   8.03510000e+00   5.33840000e+00\n",
      "    6.27750000e+00   5.22400000e+00   5.58960000e+00   5.58910000e+00\n",
      "    2.64510000e+00   1.75680000e+00   9.15720000e-01   5.69260000e-01\n",
      "    2.34390000e-01   4.44210000e-01   1.39450000e-02   6.34710000e-01\n",
      "    4.31620000e-01   1.49600000e+00   1.71190000e+00   3.44040000e+00]\n",
      " [  1.12960000e+01   9.65660000e+00   7.73560000e+00   1.10200000e+01\n",
      "    4.57680000e+00   7.20370000e+00   7.38850000e+00   5.20520000e+00\n",
      "    2.72170000e+00   1.36240000e+00   3.33930000e-01   6.94150000e-01\n",
      "    6.53210000e-01   5.91930000e-01   4.12460000e-01   4.95220000e-01\n",
      "    7.15030000e-01   1.09850000e+00   1.69750000e+00   2.18050000e+00]\n",
      " [  1.25940000e+01   9.91030000e+00   1.07690000e+01   4.59770000e+00\n",
      "    5.66070000e+00   6.28100000e+00   5.76160000e+00   2.44910000e+00\n",
      "    3.47210000e+00   2.06080000e+00   6.85520000e-01   2.53360000e-01\n",
      "    9.14410000e-01   5.43460000e-01   5.69490000e-01   7.50080000e-01\n",
      "    2.37770000e-01   1.21860000e+00   1.10720000e+00   3.14870000e+00]\n",
      " [  0.00000000e+00   8.86750000e+00   1.09370000e+01   5.94630000e+00\n",
      "    6.71910000e+00   6.56230000e+00   5.41180000e+00   3.44390000e+00\n",
      "    2.38400000e+00   1.91040000e+00   5.07460000e-01   6.84380000e-01\n",
      "    1.88770000e-01   4.65410000e-01   7.10910000e-01   3.40710000e-01\n",
      "    1.59420000e-01   1.47530000e+00   1.00080000e+00   2.47900000e+00]\n",
      " [  0.00000000e+00   0.00000000e+00   1.09510000e+01   6.16130000e+00\n",
      "    6.39230000e+00   6.77090000e+00   2.97070000e+00   3.00160000e+00\n",
      "    3.16400000e+00   9.27410000e-01   1.63100000e-01   6.60050000e-01\n",
      "    2.65610000e-01   3.33110000e-01   6.92320000e-01   4.83450000e-01\n",
      "    6.38880000e-01   1.37370000e+00   1.67970000e+00   1.46610000e+00]\n",
      " [  0.00000000e+00   0.00000000e+00   0.00000000e+00   7.35480000e+00\n",
      "    5.17310000e+00   4.97080000e+00   5.28450000e+00   6.20870000e+00\n",
      "    3.10520000e+00   1.33270000e+00   8.00840000e-01   3.99210000e-01\n",
      "    4.79130000e-01   1.83510000e-01   5.87880000e-01   7.43440000e-01\n",
      "    8.50210000e-01   1.93280000e+00   1.85560000e+00   2.00220000e+00]\n",
      " [  0.00000000e+00   0.00000000e+00   0.00000000e+00   0.00000000e+00\n",
      "    4.27790000e+00   4.84380000e+00   5.58920000e+00   5.08860000e+00\n",
      "    3.22450000e+00   1.66830000e+00   6.84720000e-01   4.03130000e-01\n",
      "    5.13070000e-01   5.30720000e-01   2.50270000e-01   6.33020000e-01\n",
      "    6.84300000e-01   1.43690000e+00   1.61740000e+00   0.00000000e+00]\n",
      " [  0.00000000e+00   0.00000000e+00   0.00000000e+00   0.00000000e+00\n",
      "    5.89260000e+00   6.24750000e+00   7.16320000e+00   3.03870000e+00\n",
      "    2.25360000e+00   1.64640000e+00   3.10750000e-01  -2.02740000e-01\n",
      "    5.48960000e-01   1.07790000e+00   6.49440000e-02   4.21700000e-01\n",
      "    3.12440000e-01   1.78110000e+00   1.44660000e+00   0.00000000e+00]\n",
      " [  0.00000000e+00   0.00000000e+00   0.00000000e+00   0.00000000e+00\n",
      "    0.00000000e+00   6.58550000e+00   4.74020000e+00   1.78550000e+00\n",
      "    2.91220000e+00   1.61550000e+00   7.08320000e-01   4.16660000e-01\n",
      "    5.61000000e-01   4.74380000e-01   3.71510000e-01   3.28720000e-01\n",
      "    4.95780000e-01   1.42850000e+00   0.00000000e+00   0.00000000e+00]\n",
      " [  0.00000000e+00   0.00000000e+00   0.00000000e+00   0.00000000e+00\n",
      "    0.00000000e+00   5.15030000e+00   5.89600000e+00   2.34500000e+00\n",
      "    2.72540000e+00   1.41890000e+00   1.22000000e-01   4.66610000e-01\n",
      "    4.94360000e-01   1.66160000e-01   6.74920000e-01   6.81900000e-01\n",
      "   -1.66330000e-03   0.00000000e+00   0.00000000e+00   0.00000000e+00]\n",
      " [  0.00000000e+00   0.00000000e+00   0.00000000e+00   0.00000000e+00\n",
      "    0.00000000e+00   6.91380000e+00   4.58080000e+00   2.52750000e+00\n",
      "    2.60380000e+00   1.44440000e+00   5.36520000e-01   2.25310000e-01\n",
      "    5.89560000e-01   6.07860000e-01   5.05990000e-01   0.00000000e+00\n",
      "    0.00000000e+00   0.00000000e+00   0.00000000e+00   0.00000000e+00]]\n",
      "Util2d:delr: resetting 'how' to external\n",
      "Util2d:delc: resetting 'how' to external\n",
      "Util2d:model_top: resetting 'how' to external\n",
      "Util2d:strt layer 1: resetting 'how' to external\n",
      "Util2d:vka layer 1: resetting 'how' to external\n",
      "Util2d:ss layer 1: resetting 'how' to external\n",
      "Util2d:rech_1: resetting 'how' to external\n"
     ]
    }
   ],
   "source": [
    "fb.build_model(model_ws = WD);"
   ]
  },
  {
   "cell_type": "code",
   "execution_count": 5,
   "metadata": {},
   "outputs": [],
   "source": [
    "m = fp.modflow.Modflow.load('freyberg.nam', model_ws=WD)"
   ]
  },
  {
   "cell_type": "code",
   "execution_count": 10,
   "metadata": {},
   "outputs": [
    {
     "data": {
      "text/plain": [
       "xul:0; yul:10000; rotation:0; proj4_str:+init=EPSG:4326; units:meters; lenuni:2; length_multiplier:1.0"
      ]
     },
     "execution_count": 10,
     "metadata": {},
     "output_type": "execute_result"
    }
   ],
   "source": [
    "m.sr"
   ]
  },
  {
   "cell_type": "code",
   "execution_count": 11,
   "metadata": {},
   "outputs": [
    {
     "data": {
      "text/html": [
       "<div>\n",
       "<style scoped>\n",
       "    .dataframe tbody tr th:only-of-type {\n",
       "        vertical-align: middle;\n",
       "    }\n",
       "\n",
       "    .dataframe tbody tr th {\n",
       "        vertical-align: top;\n",
       "    }\n",
       "\n",
       "    .dataframe thead th {\n",
       "        text-align: right;\n",
       "    }\n",
       "</style>\n",
       "<table border=\"1\" class=\"dataframe\">\n",
       "  <thead>\n",
       "    <tr style=\"text-align: right;\">\n",
       "      <th></th>\n",
       "      <th>Name</th>\n",
       "      <th>Row</th>\n",
       "      <th>Column</th>\n",
       "      <th>Bottom_Elev</th>\n",
       "    </tr>\n",
       "  </thead>\n",
       "  <tbody>\n",
       "    <tr>\n",
       "      <th>0</th>\n",
       "      <td>cr04c17</td>\n",
       "      <td>4</td>\n",
       "      <td>17</td>\n",
       "      <td>6.0</td>\n",
       "    </tr>\n",
       "    <tr>\n",
       "      <th>1</th>\n",
       "      <td>cr04c11</td>\n",
       "      <td>4</td>\n",
       "      <td>11</td>\n",
       "      <td>3.0</td>\n",
       "    </tr>\n",
       "    <tr>\n",
       "      <th>2</th>\n",
       "      <td>cr05c10</td>\n",
       "      <td>5</td>\n",
       "      <td>10</td>\n",
       "      <td>6.0</td>\n",
       "    </tr>\n",
       "    <tr>\n",
       "      <th>3</th>\n",
       "      <td>cr11c3</td>\n",
       "      <td>11</td>\n",
       "      <td>3</td>\n",
       "      <td>14.0</td>\n",
       "    </tr>\n",
       "    <tr>\n",
       "      <th>4</th>\n",
       "      <td>cr15c12</td>\n",
       "      <td>15</td>\n",
       "      <td>12</td>\n",
       "      <td>1.5</td>\n",
       "    </tr>\n",
       "  </tbody>\n",
       "</table>\n",
       "</div>"
      ],
      "text/plain": [
       "      Name  Row  Column  Bottom_Elev\n",
       "0  cr04c17    4      17          6.0\n",
       "1  cr04c11    4      11          3.0\n",
       "2  cr05c10    5      10          6.0\n",
       "3   cr11c3   11       3         14.0\n",
       "4  cr15c12   15      12          1.5"
      ]
     },
     "execution_count": 11,
     "metadata": {},
     "output_type": "execute_result"
    }
   ],
   "source": [
    "botraw = pd.read_csv(os.path.join('..','_data','bottoms_raw.dat'), delim_whitespace=True)\n",
    "botraw.head()"
   ]
  },
  {
   "cell_type": "code",
   "execution_count": 12,
   "metadata": {},
   "outputs": [],
   "source": [
    "for i in ['Row','Column']:\n",
    "    botraw[i]-=1 "
   ]
  },
  {
   "cell_type": "code",
   "execution_count": 13,
   "metadata": {},
   "outputs": [
    {
     "data": {
      "text/html": [
       "<div>\n",
       "<style scoped>\n",
       "    .dataframe tbody tr th:only-of-type {\n",
       "        vertical-align: middle;\n",
       "    }\n",
       "\n",
       "    .dataframe tbody tr th {\n",
       "        vertical-align: top;\n",
       "    }\n",
       "\n",
       "    .dataframe thead th {\n",
       "        text-align: right;\n",
       "    }\n",
       "</style>\n",
       "<table border=\"1\" class=\"dataframe\">\n",
       "  <thead>\n",
       "    <tr style=\"text-align: right;\">\n",
       "      <th></th>\n",
       "      <th>Name</th>\n",
       "      <th>Row</th>\n",
       "      <th>Column</th>\n",
       "      <th>Bottom_Elev</th>\n",
       "    </tr>\n",
       "  </thead>\n",
       "  <tbody>\n",
       "    <tr>\n",
       "      <th>0</th>\n",
       "      <td>cr04c17</td>\n",
       "      <td>3</td>\n",
       "      <td>16</td>\n",
       "      <td>6.0</td>\n",
       "    </tr>\n",
       "    <tr>\n",
       "      <th>1</th>\n",
       "      <td>cr04c11</td>\n",
       "      <td>3</td>\n",
       "      <td>10</td>\n",
       "      <td>3.0</td>\n",
       "    </tr>\n",
       "    <tr>\n",
       "      <th>2</th>\n",
       "      <td>cr05c10</td>\n",
       "      <td>4</td>\n",
       "      <td>9</td>\n",
       "      <td>6.0</td>\n",
       "    </tr>\n",
       "    <tr>\n",
       "      <th>3</th>\n",
       "      <td>cr11c3</td>\n",
       "      <td>10</td>\n",
       "      <td>2</td>\n",
       "      <td>14.0</td>\n",
       "    </tr>\n",
       "    <tr>\n",
       "      <th>4</th>\n",
       "      <td>cr15c12</td>\n",
       "      <td>14</td>\n",
       "      <td>11</td>\n",
       "      <td>1.5</td>\n",
       "    </tr>\n",
       "  </tbody>\n",
       "</table>\n",
       "</div>"
      ],
      "text/plain": [
       "      Name  Row  Column  Bottom_Elev\n",
       "0  cr04c17    3      16          6.0\n",
       "1  cr04c11    3      10          3.0\n",
       "2  cr05c10    4       9          6.0\n",
       "3   cr11c3   10       2         14.0\n",
       "4  cr15c12   14      11          1.5"
      ]
     },
     "execution_count": 13,
     "metadata": {},
     "output_type": "execute_result"
    }
   ],
   "source": [
    "botraw.head()"
   ]
  },
  {
   "cell_type": "code",
   "execution_count": 14,
   "metadata": {},
   "outputs": [],
   "source": [
    "x,y = m.sr.get_xcenter_array()[botraw.Column.values],m.sr.get_ycenter_array()[botraw.Row.values]"
   ]
  },
  {
   "cell_type": "code",
   "execution_count": 15,
   "metadata": {},
   "outputs": [
    {
     "data": {
      "text/plain": [
       "array([ 4125.,  2625.,  2375.,   625.,  2875.,  4375.,  2875.,  4125.,\n",
       "        1375.,  1875.,  4125.,  2125.,  2875.,  2125.,  2875.,  3375.,\n",
       "        3875.,  3125.,  3375.,  2375.,  1375.,  2875.])"
      ]
     },
     "execution_count": 15,
     "metadata": {},
     "output_type": "execute_result"
    }
   ],
   "source": [
    "x"
   ]
  },
  {
   "cell_type": "code",
   "execution_count": 16,
   "metadata": {},
   "outputs": [
    {
     "data": {
      "text/plain": [
       "array([ 9125.,  9125.,  8875.,  7375.,  6375.,  5875.,  4375.,  4125.,\n",
       "        3625.,  3125.,  2375.,  1375.,  1125.,   125.,   125.,   125.,\n",
       "        7875.,  7375.,  5125.,  3625.,  2875.,  1625.])"
      ]
     },
     "execution_count": 16,
     "metadata": {},
     "output_type": "execute_result"
    }
   ],
   "source": [
    "y"
   ]
  },
  {
   "cell_type": "code",
   "execution_count": 147,
   "metadata": {},
   "outputs": [
    {
     "name": "stderr",
     "output_type": "stream",
     "text": [
      "/Users/mnfienen/anaconda3/lib/python3.6/site-packages/numpy/core/fromnumeric.py:2889: RuntimeWarning: Mean of empty slice.\n",
      "  out=out, **kwargs)\n",
      "/Users/mnfienen/anaconda3/lib/python3.6/site-packages/numpy/core/_methods.py:80: RuntimeWarning: invalid value encountered in double_scalars\n",
      "  ret = ret.dtype.type(ret / rcount)\n"
     ]
    },
    {
     "data": {
      "text/plain": [
       "<matplotlib.axes._subplots.AxesSubplot at 0x11395aeb8>"
      ]
     },
     "execution_count": 147,
     "metadata": {},
     "output_type": "execute_result"
    },
    {
     "data": {
      "image/png": "[encoded data removed]",
      "text/plain": [
       "<Figure size 432x432 with 1 Axes>"
      ]
     },
     "metadata": {},
     "output_type": "display_data"
    }
   ],
   "source": [
    "h,gam,ax=plot_empirical_variogram(x,y,botraw.Bottom_Elev,nbins=20)\n",
    "v = pyemu.geostats.ExpVario(contribution=15, a=5000)\n",
    "gs = pyemu.geostats.GeoStruct(variograms=v)\n",
    "gs.plot(ax=ax)"
   ]
  },
  {
   "cell_type": "code",
   "execution_count": 148,
   "metadata": {},
   "outputs": [],
   "source": [
    "X,Y = m.sr.xcentergrid,m.sr.ycentergrid"
   ]
  },
  {
   "cell_type": "code",
   "execution_count": 149,
   "metadata": {},
   "outputs": [],
   "source": [
    "interp_df = pd.DataFrame({'name':['p{0}'.format(i) for i in range(len(botraw))], 'x' : x,'y':y, 'z':botraw.Bottom_Elev})"
   ]
  },
  {
   "cell_type": "code",
   "execution_count": 150,
   "metadata": {},
   "outputs": [],
   "source": [
    "interp_df.index = interp_df.name"
   ]
  },
  {
   "cell_type": "code",
   "execution_count": 151,
   "metadata": {},
   "outputs": [],
   "source": [
    "k =  pyemu.geostats.OrdinaryKrige(gs,interp_df)"
   ]
  },
  {
   "cell_type": "code",
   "execution_count": 152,
   "metadata": {},
   "outputs": [
    {
     "name": "stdout",
     "output_type": "stream",
     "text": [
      "starting interp point loop for 800 points\n",
      "took 2.607701 seconds\n"
     ]
    }
   ],
   "source": [
    "\n",
    "kfac = k.calc_factors(X.ravel(),Y.ravel())"
   ]
  },
  {
   "cell_type": "code",
   "execution_count": 153,
   "metadata": {},
   "outputs": [],
   "source": [
    "def geostat_interpolate(X,Y,interp_data, data_df):\n",
    "    '''\n",
    "\n",
    "    :param X: grid of X grid locations\n",
    "    :param Y: grid of Y grid locations\n",
    "    :param interp_data: dataframe of interpolation data greated by pyemu.geostats.OrdinaryKrige.calc_factors()\n",
    "    :param data_df: xd, yd, zd, and names of points\n",
    "\n",
    "    :return: Z -- an interpolated field\n",
    "    '''\n",
    "\n",
    "    dims = X.shape\n",
    "    X = X.ravel()\n",
    "    Y = Y.ravel()\n",
    "    Z = np.zeros_like(X)\n",
    "    i = 0\n",
    "    for cp in interp_data.index:\n",
    "        # alot going on in the next line! Get the locations from sample_df of the names for current point (cp)\n",
    "        # then sort the results to be the same order as ifacts\n",
    "        # then grab the zd values\n",
    "        # make it 2d to take advantage of vectorization later\n",
    "        cpts = np.atleast_2d(data_df.loc[data_df.name.isin(interp_data.loc[cp].inames)].loc[\n",
    "            interp_data.loc[cp].inames].z.values)\n",
    "        Z[i] = np.squeeze(cpts.dot(np.atleast_2d(interp_data.loc[cp].ifacts).T))\n",
    "        i+=1\n",
    "    return Z.reshape(dims)"
   ]
  },
  {
   "cell_type": "code",
   "execution_count": 154,
   "metadata": {},
   "outputs": [],
   "source": [
    "Z_interp = geostat_interpolate(X,Y,k.interp_data,interp_df)"
   ]
  },
  {
   "cell_type": "code",
   "execution_count": 155,
   "metadata": {},
   "outputs": [
    {
     "data": {
      "text/plain": [
       "<matplotlib.colorbar.Colorbar at 0x113fedf28>"
      ]
     },
     "execution_count": 155,
     "metadata": {},
     "output_type": "execute_result"
    },
    {
     "data": {
      "image/png": "[encoded data removed]",
      "text/plain": [
       "<Figure size 720x432 with 2 Axes>"
      ]
     },
     "metadata": {},
     "output_type": "display_data"
    }
   ],
   "source": [
    "plt.figure(figsize=(10,6))\n",
    "plt.imshow(Z_interp)\n",
    "plt.colorbar()"
   ]
  },
  {
   "cell_type": "code",
   "execution_count": 156,
   "metadata": {},
   "outputs": [
    {
     "data": {
      "text/html": [
       "<div>\n",
       "<style scoped>\n",
       "    .dataframe tbody tr th:only-of-type {\n",
       "        vertical-align: middle;\n",
       "    }\n",
       "\n",
       "    .dataframe tbody tr th {\n",
       "        vertical-align: top;\n",
       "    }\n",
       "\n",
       "    .dataframe thead th {\n",
       "        text-align: right;\n",
       "    }\n",
       "</style>\n",
       "<table border=\"1\" class=\"dataframe\">\n",
       "  <thead>\n",
       "    <tr style=\"text-align: right;\">\n",
       "      <th></th>\n",
       "      <th>Name</th>\n",
       "      <th>Row</th>\n",
       "      <th>Column</th>\n",
       "      <th>Bottom_Elev</th>\n",
       "    </tr>\n",
       "  </thead>\n",
       "  <tbody>\n",
       "    <tr>\n",
       "      <th>0</th>\n",
       "      <td>cr04c17</td>\n",
       "      <td>3</td>\n",
       "      <td>16</td>\n",
       "      <td>6.0</td>\n",
       "    </tr>\n",
       "    <tr>\n",
       "      <th>1</th>\n",
       "      <td>cr04c11</td>\n",
       "      <td>3</td>\n",
       "      <td>10</td>\n",
       "      <td>3.0</td>\n",
       "    </tr>\n",
       "    <tr>\n",
       "      <th>2</th>\n",
       "      <td>cr05c10</td>\n",
       "      <td>4</td>\n",
       "      <td>9</td>\n",
       "      <td>6.0</td>\n",
       "    </tr>\n",
       "    <tr>\n",
       "      <th>3</th>\n",
       "      <td>cr11c3</td>\n",
       "      <td>10</td>\n",
       "      <td>2</td>\n",
       "      <td>14.0</td>\n",
       "    </tr>\n",
       "    <tr>\n",
       "      <th>4</th>\n",
       "      <td>cr15c12</td>\n",
       "      <td>14</td>\n",
       "      <td>11</td>\n",
       "      <td>1.5</td>\n",
       "    </tr>\n",
       "    <tr>\n",
       "      <th>5</th>\n",
       "      <td>cr17c18</td>\n",
       "      <td>16</td>\n",
       "      <td>17</td>\n",
       "      <td>3.0</td>\n",
       "    </tr>\n",
       "    <tr>\n",
       "      <th>6</th>\n",
       "      <td>cr23c12</td>\n",
       "      <td>22</td>\n",
       "      <td>11</td>\n",
       "      <td>1.5</td>\n",
       "    </tr>\n",
       "    <tr>\n",
       "      <th>7</th>\n",
       "      <td>cr24c17</td>\n",
       "      <td>23</td>\n",
       "      <td>16</td>\n",
       "      <td>1.5</td>\n",
       "    </tr>\n",
       "    <tr>\n",
       "      <th>8</th>\n",
       "      <td>cr26c6</td>\n",
       "      <td>25</td>\n",
       "      <td>5</td>\n",
       "      <td>6.0</td>\n",
       "    </tr>\n",
       "    <tr>\n",
       "      <th>9</th>\n",
       "      <td>cr28c8</td>\n",
       "      <td>27</td>\n",
       "      <td>7</td>\n",
       "      <td>6.0</td>\n",
       "    </tr>\n",
       "    <tr>\n",
       "      <th>10</th>\n",
       "      <td>cr31c17</td>\n",
       "      <td>30</td>\n",
       "      <td>16</td>\n",
       "      <td>0.5</td>\n",
       "    </tr>\n",
       "    <tr>\n",
       "      <th>11</th>\n",
       "      <td>cr35c9</td>\n",
       "      <td>34</td>\n",
       "      <td>8</td>\n",
       "      <td>3.0</td>\n",
       "    </tr>\n",
       "    <tr>\n",
       "      <th>12</th>\n",
       "      <td>cr36c12</td>\n",
       "      <td>35</td>\n",
       "      <td>11</td>\n",
       "      <td>0.5</td>\n",
       "    </tr>\n",
       "    <tr>\n",
       "      <th>13</th>\n",
       "      <td>cr40c9</td>\n",
       "      <td>39</td>\n",
       "      <td>8</td>\n",
       "      <td>3.0</td>\n",
       "    </tr>\n",
       "    <tr>\n",
       "      <th>14</th>\n",
       "      <td>cr40c12</td>\n",
       "      <td>39</td>\n",
       "      <td>11</td>\n",
       "      <td>0.5</td>\n",
       "    </tr>\n",
       "    <tr>\n",
       "      <th>15</th>\n",
       "      <td>cr40c14</td>\n",
       "      <td>39</td>\n",
       "      <td>13</td>\n",
       "      <td>0.5</td>\n",
       "    </tr>\n",
       "    <tr>\n",
       "      <th>16</th>\n",
       "      <td>fr9c16</td>\n",
       "      <td>8</td>\n",
       "      <td>15</td>\n",
       "      <td>3.0</td>\n",
       "    </tr>\n",
       "    <tr>\n",
       "      <th>17</th>\n",
       "      <td>fr11c13</td>\n",
       "      <td>10</td>\n",
       "      <td>12</td>\n",
       "      <td>3.0</td>\n",
       "    </tr>\n",
       "    <tr>\n",
       "      <th>18</th>\n",
       "      <td>fr20c14</td>\n",
       "      <td>19</td>\n",
       "      <td>13</td>\n",
       "      <td>1.5</td>\n",
       "    </tr>\n",
       "    <tr>\n",
       "      <th>19</th>\n",
       "      <td>fr26c10</td>\n",
       "      <td>25</td>\n",
       "      <td>9</td>\n",
       "      <td>3.0</td>\n",
       "    </tr>\n",
       "    <tr>\n",
       "      <th>20</th>\n",
       "      <td>fr29c6</td>\n",
       "      <td>28</td>\n",
       "      <td>5</td>\n",
       "      <td>6.0</td>\n",
       "    </tr>\n",
       "    <tr>\n",
       "      <th>21</th>\n",
       "      <td>fr34c12</td>\n",
       "      <td>33</td>\n",
       "      <td>11</td>\n",
       "      <td>0.5</td>\n",
       "    </tr>\n",
       "  </tbody>\n",
       "</table>\n",
       "</div>"
      ],
      "text/plain": [
       "       Name  Row  Column  Bottom_Elev\n",
       "0   cr04c17    3      16          6.0\n",
       "1   cr04c11    3      10          3.0\n",
       "2   cr05c10    4       9          6.0\n",
       "3    cr11c3   10       2         14.0\n",
       "4   cr15c12   14      11          1.5\n",
       "5   cr17c18   16      17          3.0\n",
       "6   cr23c12   22      11          1.5\n",
       "7   cr24c17   23      16          1.5\n",
       "8    cr26c6   25       5          6.0\n",
       "9    cr28c8   27       7          6.0\n",
       "10  cr31c17   30      16          0.5\n",
       "11   cr35c9   34       8          3.0\n",
       "12  cr36c12   35      11          0.5\n",
       "13   cr40c9   39       8          3.0\n",
       "14  cr40c12   39      11          0.5\n",
       "15  cr40c14   39      13          0.5\n",
       "16   fr9c16    8      15          3.0\n",
       "17  fr11c13   10      12          3.0\n",
       "18  fr20c14   19      13          1.5\n",
       "19  fr26c10   25       9          3.0\n",
       "20   fr29c6   28       5          6.0\n",
       "21  fr34c12   33      11          0.5"
      ]
     },
     "execution_count": 156,
     "metadata": {},
     "output_type": "execute_result"
    }
   ],
   "source": [
    "botraw"
   ]
  },
  {
   "cell_type": "code",
   "execution_count": 158,
   "metadata": {},
   "outputs": [],
   "source": [
    "np.savetxt(os.path.join('..','_data','kriged_bottom_elevs.ref'), Z_interp)"
   ]
  },
  {
   "cell_type": "code",
   "execution_count": null,
   "metadata": {},
   "outputs": [],
   "source": []
  }
 ],
 "metadata": {
  "kernelspec": {
   "display_name": "Python 3",
   "language": "python",
   "name": "python3"
  },
  "language_info": {
   "codemirror_mode": {
    "name": "ipython",
    "version": 3
   },
   "file_extension": ".py",
   "mimetype": "text/x-python",
   "name": "python",
   "nbconvert_exporter": "python",
   "pygments_lexer": "ipython3",
   "version": "3.6.4"
  }
 },
 "nbformat": 4,
 "nbformat_minor": 2
}
